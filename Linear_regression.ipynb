{
  "nbformat": 4,
  "nbformat_minor": 0,
  "metadata": {
    "colab": {
      "name": "Linear_regression.ipynb",
      "provenance": [],
      "collapsed_sections": []
    },
    "kernelspec": {
      "name": "swift",
      "display_name": "Swift"
    }
  },
  "cells": [
    {
      "cell_type": "code",
      "metadata": {
        "id": "kZRlD4utdPuX",
        "colab_type": "code",
        "outputId": "f26974b2-0cc4-490f-e2fc-e67e7d86a69f",
        "colab": {
          "base_uri": "https://localhost:8080/",
          "height": 34
        }
      },
      "source": [
        "%include \"EnableIPythonDisplay.swift\"\n",
        "IPythonDisplay.shell.enable_matplotlib(\"inline\")"
      ],
      "execution_count": 0,
      "outputs": [
        {
          "output_type": "execute_result",
          "data": {
            "text/plain": [
              "('inline', 'module://ipykernel.pylab.backend_inline')\n"
            ]
          },
          "metadata": {
            "tags": []
          },
          "execution_count": 1
        }
      ]
    },
    {
      "cell_type": "code",
      "metadata": {
        "id": "8YwuiA3GaRZK",
        "colab_type": "code",
        "colab": {}
      },
      "source": [
        "import TensorFlow\n",
        "import Python"
      ],
      "execution_count": 0,
      "outputs": []
    },
    {
      "cell_type": "code",
      "metadata": {
        "id": "IfwpzDtTaVEb",
        "colab_type": "code",
        "colab": {}
      },
      "source": [
        "import python"
      ],
      "execution_count": 0,
      "outputs": []
    },
    {
      "cell_type": "code",
      "metadata": {
        "id": "4EGI0wkNaX1x",
        "colab_type": "code",
        "colab": {}
      },
      "source": [
        "let plt = Python.import(\"matplotlib.pyplot\")"
      ],
      "execution_count": 0,
      "outputs": []
    },
    {
      "cell_type": "code",
      "metadata": {
        "id": "abJHeul2amNn",
        "colab_type": "code",
        "colab": {}
      },
      "source": [
        "# using generics https://www.appcoda.com/swift-generics/\n",
        "let w: Float = 3.0\n",
        "let b: Float = 2.0\n",
        "let x = Tensor<Float>(rangeFrom:0, to:1, stride: 0.01)\n",
        "let noise = (Tensor<Float>(randomNormal: [100]) - 0.5) * 0.1\n"
      ],
      "execution_count": 0,
      "outputs": []
    },
    {
      "cell_type": "code",
      "metadata": {
        "id": "-puK_YR1bWB6",
        "colab_type": "code",
        "colab": {}
      },
      "source": [
        "let y = (w*x+b) + noise"
      ],
      "execution_count": 0,
      "outputs": []
    },
    {
      "cell_type": "code",
      "metadata": {
        "id": "qRU_5WuvblfR",
        "colab_type": "code",
        "outputId": "ee98a7da-b62f-483b-a55a-f4ee018f01e4",
        "colab": {
          "base_uri": "https://localhost:8080/",
          "height": 282
        }
      },
      "source": [
        "plt.clf()\n",
        "plt.plot(x.makeNumpyArray(), y.makeNumpyArray(),marker: \"x\")\n",
        "plt.show()"
      ],
      "execution_count": 0,
      "outputs": [
        {
          "output_type": "display_data",
          "data": {
            "image/png": "[encoded data removed]",
            "text/plain": [
              "<Figure size 432x288 with 1 Axes>"
            ]
          },
          "metadata": {
            "tags": []
          }
        },
        {
          "output_type": "execute_result",
          "data": {
            "text/plain": [
              "None\n"
            ]
          },
          "metadata": {
            "tags": []
          },
          "execution_count": 17
        }
      ]
    },
    {
      "cell_type": "markdown",
      "metadata": {
        "id": "dFNJt_Mqb8z7",
        "colab_type": "text"
      },
      "source": [
        "## Cost Funciton"
      ]
    },
    {
      "cell_type": "code",
      "metadata": {
        "id": "xX14aAvOcXNF",
        "colab_type": "code",
        "colab": {}
      },
      "source": [
        "func cost(y: Tensor<Float>, predictions: Tensor<Float>) -> Float? {\n",
        "  let m = y.shape[0]\n",
        "  let scalar = Tensor<Float>(Float(1.0) / (Float(2.0) * Float(m)))\n",
        "  return Float(scalar * (y - predictions).squared().sum())\n",
        "}"
      ],
      "execution_count": 0,
      "outputs": []
    },
    {
      "cell_type": "code",
      "metadata": {
        "id": "v1DgSSuSdKga",
        "colab_type": "code",
        "colab": {}
      },
      "source": [
        "## Initalise Model"
      ],
      "execution_count": 0,
      "outputs": []
    },
    {
      "cell_type": "code",
      "metadata": {
        "id": "7bShkIbrdqdi",
        "colab_type": "code",
        "outputId": "c273cbff-3553-4d39-a1f8-3c67891149e1",
        "colab": {
          "base_uri": "https://localhost:8080/",
          "height": 272
        }
      },
      "source": [
        "let lr:Float = 0.01\n",
        "let m = Float(y.shape[0])\n",
        "for _ in 0...1500{\n",
        "  Θ -= (lr/m) * x_bias.transposed() • ((x_bias • Θ) - y.reshaped(to: [100, 1]))\n",
        "}"
      ],
      "execution_count": 0,
      "outputs": [
        {
          "output_type": "error",
          "ename": "",
          "evalue": "ignored",
          "traceback": [
            "error: <Cell 25>:4:3: error: use of unresolved identifier 'Θ'\n  Θ -= (lr/m) * x_bias.transposed() • ((x_bias • Θ) - y.reshaped(to: [100, 1]))\n\nerror: <Cell 25>:4:18: error: use of unresolved identifier 'x_bias'\n  Θ -= (lr/m) * x_bias.transposed() • ((x_bias • Θ) - y.reshaped(to: [100, 1]))\n\nerror: <Cell 25>:4:44: error: use of unresolved identifier 'x_bias'\n  Θ -= (lr/m) * x_bias.transposed() • ((x_bias • Θ) - y.reshaped(to: [100, 1]))\n\nerror: <Cell 25>:4:55: error: use of unresolved identifier 'Θ'\n  Θ -= (lr/m) * x_bias.transposed() • ((x_bias • Θ) - y.reshaped(to: [100, 1]))\n\n"
          ]
        }
      ]
    },
    {
      "cell_type": "code",
      "metadata": {
        "id": "LZHVFDNUeGeC",
        "colab_type": "code",
        "colab": {}
      },
      "source": [
        ""
      ],
      "execution_count": 0,
      "outputs": []
    }
  ]
}